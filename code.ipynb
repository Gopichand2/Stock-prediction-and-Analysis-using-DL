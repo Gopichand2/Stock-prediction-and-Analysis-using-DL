{
 "cells": [
  {
   "cell_type": "markdown",
   "id": "76e47672",
   "metadata": {
    "_cell_guid": "b1076dfc-b9ad-4769-8c92-a6c4dae69d19",
    "_uuid": "8f2839f25d086af736a60e9eeb907d3b93b6e0e5",
    "execution": {
     "iopub.execute_input": "2022-12-02T14:23:43.822816Z",
     "iopub.status.busy": "2022-12-02T14:23:43.822367Z",
     "iopub.status.idle": "2022-12-02T14:23:52.776889Z",
     "shell.execute_reply": "2022-12-02T14:23:52.775961Z"
    },
    "papermill": {
     "duration": 8.975038,
     "end_time": "2022-12-02T14:23:52.779752",
     "exception": false,
     "start_time": "2022-12-02T14:23:43.804714",
     "status": "completed"
    },
    "tags": []
   },
   "source": [
    "#  Time Series Analysis and prediction of Stock Market data using                                                           Deep Learning Techniques"
   ]
  },
  {
   "cell_type": "code",
   "execution_count": 66,
   "id": "b5daa318",
   "metadata": {},
   "outputs": [],
   "source": [
    "\n",
    "import numpy as np\n",
    "import pandas as pd\n",
    "import datetime as dt\n",
    "import tensorflow as tf\n",
    "import matplotlib.pyplot as plt\n",
    "\n",
    "\n",
    "from sklearn.preprocessing import MinMaxScaler\n",
    "from sklearn.metrics import mean_squared_error\n",
    "\n",
    "from tensorflow.keras.models import Sequential\n",
    "from tensorflow.keras.layers import Dense, LSTM, Dropout\n",
    "from tensorflow.keras.callbacks import ModelCheckpoint, EarlyStopping\n",
    "\n",
    "\n",
    "import warnings\n",
    "warnings.filterwarnings('ignore')\n",
    "\n",
    "\n",
    "import os\n",
    "os.environ['TF_CPP_MIN_LOG_LEVEL'] = '3'\n",
    "tf.compat.v1.logging.set_verbosity(tf.compat.v1.logging.ERROR)"
   ]
  },
  {
   "cell_type": "markdown",
   "id": "f8ad7961",
   "metadata": {},
   "source": [
    "### -->Preprocessing of the data"
   ]
  },
  {
   "cell_type": "code",
   "execution_count": 67,
   "id": "17d89494",
   "metadata": {
    "execution": {
     "iopub.execute_input": "2022-12-02T14:23:52.815371Z",
     "iopub.status.busy": "2022-12-02T14:23:52.814517Z",
     "iopub.status.idle": "2022-12-02T14:23:52.849680Z",
     "shell.execute_reply": "2022-12-02T14:23:52.848259Z"
    },
    "papermill": {
     "duration": 0.056172,
     "end_time": "2022-12-02T14:23:52.852707",
     "exception": false,
     "start_time": "2022-12-02T14:23:52.796535",
     "status": "completed"
    },
    "tags": []
   },
   "outputs": [],
   "source": [
    "df = pd.read_csv(\"Stocks/tsla.us.txt\")"
   ]
  },
  {
   "cell_type": "markdown",
   "id": "49053c7e",
   "metadata": {},
   "source": [
    "### chech if the data is stationary or not using Augmented Dickey Fuller Test"
   ]
  },
  {
   "cell_type": "code",
   "execution_count": 68,
   "id": "34d4ae5f",
   "metadata": {},
   "outputs": [],
   "source": [
    "from statsmodels.tsa.stattools import adfuller"
   ]
  },
  {
   "cell_type": "code",
   "execution_count": 69,
   "id": "25359b6d",
   "metadata": {},
   "outputs": [],
   "source": [
    "def adtest(dataset):\n",
    "    dftest = adfuller(dataset, autolag=\"AIC\")\n",
    "    print(\"1. ADF : \", dftest[0])\n",
    "    print(\"2. P-VALUES : \", dftest[1])\n",
    "    print(\"3. NUM OF LAGS : \", dftest[2])\n",
    "    print(\"4. NUM OF OBSERVATIONS USED FOR THE ADF REGRESSION AND CRITICAL VALUES CALCULATION : \", dftest[3])\n",
    "    print(\"5. CRITICAL VALUES : \")\n",
    "    for key, val in dftest[4].items():\n",
    "        print(\"\\t\", key, \": \",val)"
   ]
  },
  {
   "cell_type": "code",
   "execution_count": 70,
   "id": "4295ca25",
   "metadata": {},
   "outputs": [
    {
     "name": "stdout",
     "output_type": "stream",
     "text": [
      "1. ADF :  -2.8584722829948017\n",
      "2. P-VALUES :  0.05039461134316187\n",
      "3. NUM OF LAGS :  23\n",
      "4. NUM OF OBSERVATIONS USED FOR THE ADF REGRESSION AND CRITICAL VALUES CALCULATION :  1834\n",
      "5. CRITICAL VALUES : \n",
      "\t 1% :  -3.4339205977576532\n",
      "\t 5% :  -2.863117219476073\n",
      "\t 10% :  -2.5676096573745166\n"
     ]
    }
   ],
   "source": [
    "adtest(df['Volume'])"
   ]
  },
  {
   "cell_type": "code",
   "execution_count": 71,
   "id": "04f8a7d5",
   "metadata": {
    "execution": {
     "iopub.execute_input": "2022-12-02T14:23:52.886650Z",
     "iopub.status.busy": "2022-12-02T14:23:52.886175Z",
     "iopub.status.idle": "2022-12-02T14:23:52.913424Z",
     "shell.execute_reply": "2022-12-02T14:23:52.912519Z"
    },
    "papermill": {
     "duration": 0.047193,
     "end_time": "2022-12-02T14:23:52.915991",
     "exception": false,
     "start_time": "2022-12-02T14:23:52.868798",
     "status": "completed"
    },
    "tags": []
   },
   "outputs": [
    {
     "data": {
      "text/html": [
       "<div>\n",
       "<style scoped>\n",
       "    .dataframe tbody tr th:only-of-type {\n",
       "        vertical-align: middle;\n",
       "    }\n",
       "\n",
       "    .dataframe tbody tr th {\n",
       "        vertical-align: top;\n",
       "    }\n",
       "\n",
       "    .dataframe thead th {\n",
       "        text-align: right;\n",
       "    }\n",
       "</style>\n",
       "<table border=\"1\" class=\"dataframe\">\n",
       "  <thead>\n",
       "    <tr style=\"text-align: right;\">\n",
       "      <th></th>\n",
       "      <th>Date</th>\n",
       "      <th>Open</th>\n",
       "      <th>High</th>\n",
       "      <th>Low</th>\n",
       "      <th>Close</th>\n",
       "      <th>Volume</th>\n",
       "      <th>OpenInt</th>\n",
       "    </tr>\n",
       "  </thead>\n",
       "  <tbody>\n",
       "    <tr>\n",
       "      <th>0</th>\n",
       "      <td>2010-06-28</td>\n",
       "      <td>17.00</td>\n",
       "      <td>17.00</td>\n",
       "      <td>17.00</td>\n",
       "      <td>17.00</td>\n",
       "      <td>0</td>\n",
       "      <td>0</td>\n",
       "    </tr>\n",
       "    <tr>\n",
       "      <th>1</th>\n",
       "      <td>2010-06-29</td>\n",
       "      <td>19.00</td>\n",
       "      <td>25.00</td>\n",
       "      <td>17.54</td>\n",
       "      <td>23.89</td>\n",
       "      <td>18783276</td>\n",
       "      <td>0</td>\n",
       "    </tr>\n",
       "    <tr>\n",
       "      <th>2</th>\n",
       "      <td>2010-06-30</td>\n",
       "      <td>25.79</td>\n",
       "      <td>30.42</td>\n",
       "      <td>23.30</td>\n",
       "      <td>23.83</td>\n",
       "      <td>17194394</td>\n",
       "      <td>0</td>\n",
       "    </tr>\n",
       "    <tr>\n",
       "      <th>3</th>\n",
       "      <td>2010-07-01</td>\n",
       "      <td>25.00</td>\n",
       "      <td>25.92</td>\n",
       "      <td>20.27</td>\n",
       "      <td>21.96</td>\n",
       "      <td>8229863</td>\n",
       "      <td>0</td>\n",
       "    </tr>\n",
       "    <tr>\n",
       "      <th>4</th>\n",
       "      <td>2010-07-02</td>\n",
       "      <td>23.00</td>\n",
       "      <td>23.10</td>\n",
       "      <td>18.71</td>\n",
       "      <td>19.20</td>\n",
       "      <td>5141807</td>\n",
       "      <td>0</td>\n",
       "    </tr>\n",
       "  </tbody>\n",
       "</table>\n",
       "</div>"
      ],
      "text/plain": [
       "         Date   Open   High    Low  Close    Volume  OpenInt\n",
       "0  2010-06-28  17.00  17.00  17.00  17.00         0        0\n",
       "1  2010-06-29  19.00  25.00  17.54  23.89  18783276        0\n",
       "2  2010-06-30  25.79  30.42  23.30  23.83  17194394        0\n",
       "3  2010-07-01  25.00  25.92  20.27  21.96   8229863        0\n",
       "4  2010-07-02  23.00  23.10  18.71  19.20   5141807        0"
      ]
     },
     "execution_count": 71,
     "metadata": {},
     "output_type": "execute_result"
    }
   ],
   "source": [
    "df.head()"
   ]
  },
  {
   "cell_type": "code",
   "execution_count": 72,
   "id": "fa0dece7",
   "metadata": {
    "execution": {
     "iopub.execute_input": "2022-12-02T14:23:52.950600Z",
     "iopub.status.busy": "2022-12-02T14:23:52.949470Z",
     "iopub.status.idle": "2022-12-02T14:23:52.965989Z",
     "shell.execute_reply": "2022-12-02T14:23:52.964774Z"
    },
    "papermill": {
     "duration": 0.036712,
     "end_time": "2022-12-02T14:23:52.968685",
     "exception": false,
     "start_time": "2022-12-02T14:23:52.931973",
     "status": "completed"
    },
    "tags": []
   },
   "outputs": [
    {
     "data": {
      "text/html": [
       "<div>\n",
       "<style scoped>\n",
       "    .dataframe tbody tr th:only-of-type {\n",
       "        vertical-align: middle;\n",
       "    }\n",
       "\n",
       "    .dataframe tbody tr th {\n",
       "        vertical-align: top;\n",
       "    }\n",
       "\n",
       "    .dataframe thead th {\n",
       "        text-align: right;\n",
       "    }\n",
       "</style>\n",
       "<table border=\"1\" class=\"dataframe\">\n",
       "  <thead>\n",
       "    <tr style=\"text-align: right;\">\n",
       "      <th></th>\n",
       "      <th>Date</th>\n",
       "      <th>Open</th>\n",
       "      <th>High</th>\n",
       "      <th>Low</th>\n",
       "      <th>Close</th>\n",
       "      <th>Volume</th>\n",
       "      <th>OpenInt</th>\n",
       "    </tr>\n",
       "  </thead>\n",
       "  <tbody>\n",
       "    <tr>\n",
       "      <th>1853</th>\n",
       "      <td>2017-11-06</td>\n",
       "      <td>307.00</td>\n",
       "      <td>307.50</td>\n",
       "      <td>299.01</td>\n",
       "      <td>302.78</td>\n",
       "      <td>6482486</td>\n",
       "      <td>0</td>\n",
       "    </tr>\n",
       "    <tr>\n",
       "      <th>1854</th>\n",
       "      <td>2017-11-07</td>\n",
       "      <td>301.02</td>\n",
       "      <td>306.50</td>\n",
       "      <td>300.03</td>\n",
       "      <td>306.05</td>\n",
       "      <td>5286320</td>\n",
       "      <td>0</td>\n",
       "    </tr>\n",
       "    <tr>\n",
       "      <th>1855</th>\n",
       "      <td>2017-11-08</td>\n",
       "      <td>305.50</td>\n",
       "      <td>306.89</td>\n",
       "      <td>301.30</td>\n",
       "      <td>304.31</td>\n",
       "      <td>4725510</td>\n",
       "      <td>0</td>\n",
       "    </tr>\n",
       "    <tr>\n",
       "      <th>1856</th>\n",
       "      <td>2017-11-09</td>\n",
       "      <td>302.50</td>\n",
       "      <td>304.46</td>\n",
       "      <td>296.30</td>\n",
       "      <td>302.99</td>\n",
       "      <td>5440335</td>\n",
       "      <td>0</td>\n",
       "    </tr>\n",
       "    <tr>\n",
       "      <th>1857</th>\n",
       "      <td>2017-11-10</td>\n",
       "      <td>302.50</td>\n",
       "      <td>308.36</td>\n",
       "      <td>301.85</td>\n",
       "      <td>302.99</td>\n",
       "      <td>4621912</td>\n",
       "      <td>0</td>\n",
       "    </tr>\n",
       "  </tbody>\n",
       "</table>\n",
       "</div>"
      ],
      "text/plain": [
       "            Date    Open    High     Low   Close   Volume  OpenInt\n",
       "1853  2017-11-06  307.00  307.50  299.01  302.78  6482486        0\n",
       "1854  2017-11-07  301.02  306.50  300.03  306.05  5286320        0\n",
       "1855  2017-11-08  305.50  306.89  301.30  304.31  4725510        0\n",
       "1856  2017-11-09  302.50  304.46  296.30  302.99  5440335        0\n",
       "1857  2017-11-10  302.50  308.36  301.85  302.99  4621912        0"
      ]
     },
     "execution_count": 72,
     "metadata": {},
     "output_type": "execute_result"
    }
   ],
   "source": [
    "df.tail()"
   ]
  },
  {
   "cell_type": "code",
   "execution_count": 73,
   "id": "15d9c24b",
   "metadata": {
    "_kg_hide-input": true,
    "execution": {
     "iopub.execute_input": "2022-12-02T14:23:53.005289Z",
     "iopub.status.busy": "2022-12-02T14:23:53.004506Z",
     "iopub.status.idle": "2022-12-02T14:23:53.013764Z",
     "shell.execute_reply": "2022-12-02T14:23:53.012486Z"
    },
    "papermill": {
     "duration": 0.030465,
     "end_time": "2022-12-02T14:23:53.016330",
     "exception": false,
     "start_time": "2022-12-02T14:23:52.985865",
     "status": "completed"
    },
    "tags": []
   },
   "outputs": [],
   "source": [
    "def check_df(dataframe, head=5):\n",
    "  \n",
    "    print(dataframe.shape)\n",
    "   \n",
    "    print(dataframe.dtypes)\n",
    "\n",
    "    print(dataframe.head(head))\n",
    "   \n",
    "    print(dataframe.tail(head))\n",
    "\n",
    "    print(dataframe.isnull().sum())\n",
    "       \n",
    "    print(dataframe.quantile([0, 0.05, 0.50, 0.95, 0.99, 1]).T)"
   ]
  },
  {
   "cell_type": "code",
   "execution_count": 74,
   "id": "c9aa844d",
   "metadata": {
    "execution": {
     "iopub.execute_input": "2022-12-02T14:23:53.052206Z",
     "iopub.status.busy": "2022-12-02T14:23:53.051462Z",
     "iopub.status.idle": "2022-12-02T14:23:53.082567Z",
     "shell.execute_reply": "2022-12-02T14:23:53.081029Z"
    },
    "papermill": {
     "duration": 0.052761,
     "end_time": "2022-12-02T14:23:53.085612",
     "exception": false,
     "start_time": "2022-12-02T14:23:53.032851",
     "status": "completed"
    },
    "tags": []
   },
   "outputs": [
    {
     "name": "stdout",
     "output_type": "stream",
     "text": [
      "(1858, 7)\n",
      "Date        object\n",
      "Open       float64\n",
      "High       float64\n",
      "Low        float64\n",
      "Close      float64\n",
      "Volume       int64\n",
      "OpenInt      int64\n",
      "dtype: object\n",
      "         Date   Open   High    Low  Close    Volume  OpenInt\n",
      "0  2010-06-28  17.00  17.00  17.00  17.00         0        0\n",
      "1  2010-06-29  19.00  25.00  17.54  23.89  18783276        0\n",
      "2  2010-06-30  25.79  30.42  23.30  23.83  17194394        0\n",
      "3  2010-07-01  25.00  25.92  20.27  21.96   8229863        0\n",
      "4  2010-07-02  23.00  23.10  18.71  19.20   5141807        0\n",
      "            Date    Open    High     Low   Close   Volume  OpenInt\n",
      "1853  2017-11-06  307.00  307.50  299.01  302.78  6482486        0\n",
      "1854  2017-11-07  301.02  306.50  300.03  306.05  5286320        0\n",
      "1855  2017-11-08  305.50  306.89  301.30  304.31  4725510        0\n",
      "1856  2017-11-09  302.50  304.46  296.30  302.99  5440335        0\n",
      "1857  2017-11-10  302.50  308.36  301.85  302.99  4621912        0\n",
      "Date       0\n",
      "Open       0\n",
      "High       0\n",
      "Low        0\n",
      "Close      0\n",
      "Volume     0\n",
      "OpenInt    0\n",
      "dtype: int64\n",
      "          0.00        0.05        0.50          0.95          0.99  \\\n",
      "Open     16.14      22.177      184.44  3.295575e+02  3.670842e+02   \n",
      "High     16.63      23.000      188.66  3.320488e+02  3.718088e+02   \n",
      "Low       8.03      21.500      181.45  3.232701e+02  3.622350e+02   \n",
      "Close    15.80      22.207      184.85  3.278490e+02  3.656543e+02   \n",
      "Volume    0.00  569400.300  3421025.50  1.205163e+07  2.226238e+07   \n",
      "OpenInt   0.00       0.000        0.00  0.000000e+00  0.000000e+00   \n",
      "\n",
      "                 1.00  \n",
      "Open     3.866900e+02  \n",
      "High     3.896100e+02  \n",
      "Low      3.793450e+02  \n",
      "Close    3.850000e+02  \n",
      "Volume   3.714989e+07  \n",
      "OpenInt  0.000000e+00  \n"
     ]
    }
   ],
   "source": [
    "check_df(df)"
   ]
  },
  {
   "cell_type": "code",
   "execution_count": 75,
   "id": "a95088d0",
   "metadata": {
    "execution": {
     "iopub.execute_input": "2022-12-02T14:23:53.122365Z",
     "iopub.status.busy": "2022-12-02T14:23:53.121884Z",
     "iopub.status.idle": "2022-12-02T14:23:53.134782Z",
     "shell.execute_reply": "2022-12-02T14:23:53.133776Z"
    },
    "papermill": {
     "duration": 0.033351,
     "end_time": "2022-12-02T14:23:53.137275",
     "exception": false,
     "start_time": "2022-12-02T14:23:53.103924",
     "status": "completed"
    },
    "tags": []
   },
   "outputs": [],
   "source": [
    "df[\"Date\"]=pd.to_datetime(df[\"Date\"])"
   ]
  },
  {
   "cell_type": "code",
   "execution_count": 76,
   "id": "86bfbf20",
   "metadata": {
    "execution": {
     "iopub.execute_input": "2022-12-02T14:23:53.171242Z",
     "iopub.status.busy": "2022-12-02T14:23:53.170820Z",
     "iopub.status.idle": "2022-12-02T14:23:53.187222Z",
     "shell.execute_reply": "2022-12-02T14:23:53.185927Z"
    },
    "papermill": {
     "duration": 0.036317,
     "end_time": "2022-12-02T14:23:53.189731",
     "exception": false,
     "start_time": "2022-12-02T14:23:53.153414",
     "status": "completed"
    },
    "tags": []
   },
   "outputs": [
    {
     "data": {
      "text/html": [
       "<div>\n",
       "<style scoped>\n",
       "    .dataframe tbody tr th:only-of-type {\n",
       "        vertical-align: middle;\n",
       "    }\n",
       "\n",
       "    .dataframe tbody tr th {\n",
       "        vertical-align: top;\n",
       "    }\n",
       "\n",
       "    .dataframe thead th {\n",
       "        text-align: right;\n",
       "    }\n",
       "</style>\n",
       "<table border=\"1\" class=\"dataframe\">\n",
       "  <thead>\n",
       "    <tr style=\"text-align: right;\">\n",
       "      <th></th>\n",
       "      <th>Date</th>\n",
       "      <th>Open</th>\n",
       "      <th>High</th>\n",
       "      <th>Low</th>\n",
       "      <th>Close</th>\n",
       "      <th>Volume</th>\n",
       "      <th>OpenInt</th>\n",
       "    </tr>\n",
       "  </thead>\n",
       "  <tbody>\n",
       "    <tr>\n",
       "      <th>0</th>\n",
       "      <td>2010-06-28</td>\n",
       "      <td>17.00</td>\n",
       "      <td>17.00</td>\n",
       "      <td>17.00</td>\n",
       "      <td>17.00</td>\n",
       "      <td>0</td>\n",
       "      <td>0</td>\n",
       "    </tr>\n",
       "    <tr>\n",
       "      <th>1</th>\n",
       "      <td>2010-06-29</td>\n",
       "      <td>19.00</td>\n",
       "      <td>25.00</td>\n",
       "      <td>17.54</td>\n",
       "      <td>23.89</td>\n",
       "      <td>18783276</td>\n",
       "      <td>0</td>\n",
       "    </tr>\n",
       "    <tr>\n",
       "      <th>2</th>\n",
       "      <td>2010-06-30</td>\n",
       "      <td>25.79</td>\n",
       "      <td>30.42</td>\n",
       "      <td>23.30</td>\n",
       "      <td>23.83</td>\n",
       "      <td>17194394</td>\n",
       "      <td>0</td>\n",
       "    </tr>\n",
       "    <tr>\n",
       "      <th>3</th>\n",
       "      <td>2010-07-01</td>\n",
       "      <td>25.00</td>\n",
       "      <td>25.92</td>\n",
       "      <td>20.27</td>\n",
       "      <td>21.96</td>\n",
       "      <td>8229863</td>\n",
       "      <td>0</td>\n",
       "    </tr>\n",
       "    <tr>\n",
       "      <th>4</th>\n",
       "      <td>2010-07-02</td>\n",
       "      <td>23.00</td>\n",
       "      <td>23.10</td>\n",
       "      <td>18.71</td>\n",
       "      <td>19.20</td>\n",
       "      <td>5141807</td>\n",
       "      <td>0</td>\n",
       "    </tr>\n",
       "  </tbody>\n",
       "</table>\n",
       "</div>"
      ],
      "text/plain": [
       "        Date   Open   High    Low  Close    Volume  OpenInt\n",
       "0 2010-06-28  17.00  17.00  17.00  17.00         0        0\n",
       "1 2010-06-29  19.00  25.00  17.54  23.89  18783276        0\n",
       "2 2010-06-30  25.79  30.42  23.30  23.83  17194394        0\n",
       "3 2010-07-01  25.00  25.92  20.27  21.96   8229863        0\n",
       "4 2010-07-02  23.00  23.10  18.71  19.20   5141807        0"
      ]
     },
     "execution_count": 76,
     "metadata": {},
     "output_type": "execute_result"
    }
   ],
   "source": [
    "df.head()\n"
   ]
  },
  {
   "cell_type": "code",
   "execution_count": 77,
   "id": "acf9a553",
   "metadata": {
    "execution": {
     "iopub.execute_input": "2022-12-02T14:23:53.259167Z",
     "iopub.status.busy": "2022-12-02T14:23:53.258710Z",
     "iopub.status.idle": "2022-12-02T14:23:53.267728Z",
     "shell.execute_reply": "2022-12-02T14:23:53.266428Z"
    },
    "papermill": {
     "duration": 0.030274,
     "end_time": "2022-12-02T14:23:53.270708",
     "exception": false,
     "start_time": "2022-12-02T14:23:53.240434",
     "status": "completed"
    },
    "tags": []
   },
   "outputs": [],
   "source": [
    "Stock_df= df[[\"Date\",\"Close\"]]"
   ]
  },
  {
   "cell_type": "code",
   "execution_count": 78,
   "id": "b9e035ef",
   "metadata": {
    "execution": {
     "iopub.execute_input": "2022-12-02T14:23:53.310388Z",
     "iopub.status.busy": "2022-12-02T14:23:53.309174Z",
     "iopub.status.idle": "2022-12-02T14:23:53.320612Z",
     "shell.execute_reply": "2022-12-02T14:23:53.319622Z"
    },
    "papermill": {
     "duration": 0.033788,
     "end_time": "2022-12-02T14:23:53.322926",
     "exception": false,
     "start_time": "2022-12-02T14:23:53.289138",
     "status": "completed"
    },
    "tags": []
   },
   "outputs": [
    {
     "data": {
      "text/html": [
       "<div>\n",
       "<style scoped>\n",
       "    .dataframe tbody tr th:only-of-type {\n",
       "        vertical-align: middle;\n",
       "    }\n",
       "\n",
       "    .dataframe tbody tr th {\n",
       "        vertical-align: top;\n",
       "    }\n",
       "\n",
       "    .dataframe thead th {\n",
       "        text-align: right;\n",
       "    }\n",
       "</style>\n",
       "<table border=\"1\" class=\"dataframe\">\n",
       "  <thead>\n",
       "    <tr style=\"text-align: right;\">\n",
       "      <th></th>\n",
       "      <th>Date</th>\n",
       "      <th>Close</th>\n",
       "    </tr>\n",
       "  </thead>\n",
       "  <tbody>\n",
       "    <tr>\n",
       "      <th>0</th>\n",
       "      <td>2010-06-28</td>\n",
       "      <td>17.00</td>\n",
       "    </tr>\n",
       "    <tr>\n",
       "      <th>1</th>\n",
       "      <td>2010-06-29</td>\n",
       "      <td>23.89</td>\n",
       "    </tr>\n",
       "    <tr>\n",
       "      <th>2</th>\n",
       "      <td>2010-06-30</td>\n",
       "      <td>23.83</td>\n",
       "    </tr>\n",
       "    <tr>\n",
       "      <th>3</th>\n",
       "      <td>2010-07-01</td>\n",
       "      <td>21.96</td>\n",
       "    </tr>\n",
       "    <tr>\n",
       "      <th>4</th>\n",
       "      <td>2010-07-02</td>\n",
       "      <td>19.20</td>\n",
       "    </tr>\n",
       "  </tbody>\n",
       "</table>\n",
       "</div>"
      ],
      "text/plain": [
       "        Date  Close\n",
       "0 2010-06-28  17.00\n",
       "1 2010-06-29  23.89\n",
       "2 2010-06-30  23.83\n",
       "3 2010-07-01  21.96\n",
       "4 2010-07-02  19.20"
      ]
     },
     "execution_count": 78,
     "metadata": {},
     "output_type": "execute_result"
    }
   ],
   "source": [
    "Stock_df.head()"
   ]
  },
  {
   "cell_type": "code",
   "execution_count": 79,
   "id": "d198e2c7",
   "metadata": {
    "execution": {
     "iopub.execute_input": "2022-12-02T14:23:53.358686Z",
     "iopub.status.busy": "2022-12-02T14:23:53.357825Z",
     "iopub.status.idle": "2022-12-02T14:23:53.365170Z",
     "shell.execute_reply": "2022-12-02T14:23:53.363744Z"
    },
    "papermill": {
     "duration": 0.028446,
     "end_time": "2022-12-02T14:23:53.368066",
     "exception": false,
     "start_time": "2022-12-02T14:23:53.339620",
     "status": "completed"
    },
    "tags": []
   },
   "outputs": [
    {
     "name": "stdout",
     "output_type": "stream",
     "text": [
      "Min. Date: 2010-06-28 00:00:00\n",
      "Max. Date: 2017-11-10 00:00:00\n"
     ]
    }
   ],
   "source": [
    "print(\"Min. Date:\",Stock_df[\"Date\"].min())\n",
    "print(\"Max. Date:\",Stock_df[\"Date\"].max())"
   ]
  },
  {
   "cell_type": "code",
   "execution_count": 80,
   "id": "c17ec271",
   "metadata": {
    "execution": {
     "iopub.execute_input": "2022-12-02T14:23:53.406624Z",
     "iopub.status.busy": "2022-12-02T14:23:53.405743Z",
     "iopub.status.idle": "2022-12-02T14:23:53.411409Z",
     "shell.execute_reply": "2022-12-02T14:23:53.410275Z"
    },
    "papermill": {
     "duration": 0.027276,
     "end_time": "2022-12-02T14:23:53.413842",
     "exception": false,
     "start_time": "2022-12-02T14:23:53.386566",
     "status": "completed"
    },
    "tags": []
   },
   "outputs": [],
   "source": [
    "Stock_df.index=Stock_df[\"Date\"]"
   ]
  },
  {
   "cell_type": "code",
   "execution_count": 81,
   "id": "61039b52",
   "metadata": {
    "execution": {
     "iopub.execute_input": "2022-12-02T14:23:53.449707Z",
     "iopub.status.busy": "2022-12-02T14:23:53.449271Z",
     "iopub.status.idle": "2022-12-02T14:23:53.465989Z",
     "shell.execute_reply": "2022-12-02T14:23:53.464692Z"
    },
    "papermill": {
     "duration": 0.037421,
     "end_time": "2022-12-02T14:23:53.468291",
     "exception": false,
     "start_time": "2022-12-02T14:23:53.430870",
     "status": "completed"
    },
    "tags": []
   },
   "outputs": [
    {
     "data": {
      "text/html": [
       "<div>\n",
       "<style scoped>\n",
       "    .dataframe tbody tr th:only-of-type {\n",
       "        vertical-align: middle;\n",
       "    }\n",
       "\n",
       "    .dataframe tbody tr th {\n",
       "        vertical-align: top;\n",
       "    }\n",
       "\n",
       "    .dataframe thead th {\n",
       "        text-align: right;\n",
       "    }\n",
       "</style>\n",
       "<table border=\"1\" class=\"dataframe\">\n",
       "  <thead>\n",
       "    <tr style=\"text-align: right;\">\n",
       "      <th></th>\n",
       "      <th>Date</th>\n",
       "      <th>Close</th>\n",
       "    </tr>\n",
       "    <tr>\n",
       "      <th>Date</th>\n",
       "      <th></th>\n",
       "      <th></th>\n",
       "    </tr>\n",
       "  </thead>\n",
       "  <tbody>\n",
       "    <tr>\n",
       "      <th>2010-06-28</th>\n",
       "      <td>2010-06-28</td>\n",
       "      <td>17.00</td>\n",
       "    </tr>\n",
       "    <tr>\n",
       "      <th>2010-06-29</th>\n",
       "      <td>2010-06-29</td>\n",
       "      <td>23.89</td>\n",
       "    </tr>\n",
       "    <tr>\n",
       "      <th>2010-06-30</th>\n",
       "      <td>2010-06-30</td>\n",
       "      <td>23.83</td>\n",
       "    </tr>\n",
       "    <tr>\n",
       "      <th>2010-07-01</th>\n",
       "      <td>2010-07-01</td>\n",
       "      <td>21.96</td>\n",
       "    </tr>\n",
       "    <tr>\n",
       "      <th>2010-07-02</th>\n",
       "      <td>2010-07-02</td>\n",
       "      <td>19.20</td>\n",
       "    </tr>\n",
       "    <tr>\n",
       "      <th>...</th>\n",
       "      <td>...</td>\n",
       "      <td>...</td>\n",
       "    </tr>\n",
       "    <tr>\n",
       "      <th>2017-11-06</th>\n",
       "      <td>2017-11-06</td>\n",
       "      <td>302.78</td>\n",
       "    </tr>\n",
       "    <tr>\n",
       "      <th>2017-11-07</th>\n",
       "      <td>2017-11-07</td>\n",
       "      <td>306.05</td>\n",
       "    </tr>\n",
       "    <tr>\n",
       "      <th>2017-11-08</th>\n",
       "      <td>2017-11-08</td>\n",
       "      <td>304.31</td>\n",
       "    </tr>\n",
       "    <tr>\n",
       "      <th>2017-11-09</th>\n",
       "      <td>2017-11-09</td>\n",
       "      <td>302.99</td>\n",
       "    </tr>\n",
       "    <tr>\n",
       "      <th>2017-11-10</th>\n",
       "      <td>2017-11-10</td>\n",
       "      <td>302.99</td>\n",
       "    </tr>\n",
       "  </tbody>\n",
       "</table>\n",
       "<p>1858 rows × 2 columns</p>\n",
       "</div>"
      ],
      "text/plain": [
       "                 Date   Close\n",
       "Date                         \n",
       "2010-06-28 2010-06-28   17.00\n",
       "2010-06-29 2010-06-29   23.89\n",
       "2010-06-30 2010-06-30   23.83\n",
       "2010-07-01 2010-07-01   21.96\n",
       "2010-07-02 2010-07-02   19.20\n",
       "...               ...     ...\n",
       "2017-11-06 2017-11-06  302.78\n",
       "2017-11-07 2017-11-07  306.05\n",
       "2017-11-08 2017-11-08  304.31\n",
       "2017-11-09 2017-11-09  302.99\n",
       "2017-11-10 2017-11-10  302.99\n",
       "\n",
       "[1858 rows x 2 columns]"
      ]
     },
     "execution_count": 81,
     "metadata": {},
     "output_type": "execute_result"
    }
   ],
   "source": [
    "Stock_df"
   ]
  },
  {
   "cell_type": "code",
   "execution_count": 82,
   "id": "f5e68ee1",
   "metadata": {
    "execution": {
     "iopub.execute_input": "2022-12-02T14:23:53.506011Z",
     "iopub.status.busy": "2022-12-02T14:23:53.504830Z",
     "iopub.status.idle": "2022-12-02T14:23:53.512047Z",
     "shell.execute_reply": "2022-12-02T14:23:53.510966Z"
    },
    "papermill": {
     "duration": 0.028329,
     "end_time": "2022-12-02T14:23:53.514571",
     "exception": false,
     "start_time": "2022-12-02T14:23:53.486242",
     "status": "completed"
    },
    "tags": []
   },
   "outputs": [],
   "source": [
    "Stock_df.drop(\"Date\",axis=1,inplace=True)"
   ]
  },
  {
   "cell_type": "code",
   "execution_count": 83,
   "id": "cf852846",
   "metadata": {
    "execution": {
     "iopub.execute_input": "2022-12-02T14:23:53.551891Z",
     "iopub.status.busy": "2022-12-02T14:23:53.551039Z",
     "iopub.status.idle": "2022-12-02T14:23:53.565506Z",
     "shell.execute_reply": "2022-12-02T14:23:53.564257Z"
    },
    "papermill": {
     "duration": 0.035386,
     "end_time": "2022-12-02T14:23:53.567787",
     "exception": false,
     "start_time": "2022-12-02T14:23:53.532401",
     "status": "completed"
    },
    "tags": []
   },
   "outputs": [
    {
     "data": {
      "text/html": [
       "<div>\n",
       "<style scoped>\n",
       "    .dataframe tbody tr th:only-of-type {\n",
       "        vertical-align: middle;\n",
       "    }\n",
       "\n",
       "    .dataframe tbody tr th {\n",
       "        vertical-align: top;\n",
       "    }\n",
       "\n",
       "    .dataframe thead th {\n",
       "        text-align: right;\n",
       "    }\n",
       "</style>\n",
       "<table border=\"1\" class=\"dataframe\">\n",
       "  <thead>\n",
       "    <tr style=\"text-align: right;\">\n",
       "      <th></th>\n",
       "      <th>Close</th>\n",
       "    </tr>\n",
       "    <tr>\n",
       "      <th>Date</th>\n",
       "      <th></th>\n",
       "    </tr>\n",
       "  </thead>\n",
       "  <tbody>\n",
       "    <tr>\n",
       "      <th>2010-06-28</th>\n",
       "      <td>17.00</td>\n",
       "    </tr>\n",
       "    <tr>\n",
       "      <th>2010-06-29</th>\n",
       "      <td>23.89</td>\n",
       "    </tr>\n",
       "    <tr>\n",
       "      <th>2010-06-30</th>\n",
       "      <td>23.83</td>\n",
       "    </tr>\n",
       "    <tr>\n",
       "      <th>2010-07-01</th>\n",
       "      <td>21.96</td>\n",
       "    </tr>\n",
       "    <tr>\n",
       "      <th>2010-07-02</th>\n",
       "      <td>19.20</td>\n",
       "    </tr>\n",
       "    <tr>\n",
       "      <th>...</th>\n",
       "      <td>...</td>\n",
       "    </tr>\n",
       "    <tr>\n",
       "      <th>2017-11-06</th>\n",
       "      <td>302.78</td>\n",
       "    </tr>\n",
       "    <tr>\n",
       "      <th>2017-11-07</th>\n",
       "      <td>306.05</td>\n",
       "    </tr>\n",
       "    <tr>\n",
       "      <th>2017-11-08</th>\n",
       "      <td>304.31</td>\n",
       "    </tr>\n",
       "    <tr>\n",
       "      <th>2017-11-09</th>\n",
       "      <td>302.99</td>\n",
       "    </tr>\n",
       "    <tr>\n",
       "      <th>2017-11-10</th>\n",
       "      <td>302.99</td>\n",
       "    </tr>\n",
       "  </tbody>\n",
       "</table>\n",
       "<p>1858 rows × 1 columns</p>\n",
       "</div>"
      ],
      "text/plain": [
       "             Close\n",
       "Date              \n",
       "2010-06-28   17.00\n",
       "2010-06-29   23.89\n",
       "2010-06-30   23.83\n",
       "2010-07-01   21.96\n",
       "2010-07-02   19.20\n",
       "...            ...\n",
       "2017-11-06  302.78\n",
       "2017-11-07  306.05\n",
       "2017-11-08  304.31\n",
       "2017-11-09  302.99\n",
       "2017-11-10  302.99\n",
       "\n",
       "[1858 rows x 1 columns]"
      ]
     },
     "execution_count": 83,
     "metadata": {},
     "output_type": "execute_result"
    }
   ],
   "source": [
    "Stock_df"
   ]
  },
  {
   "cell_type": "code",
   "execution_count": 84,
   "id": "98b9a050",
   "metadata": {
    "execution": {
     "iopub.execute_input": "2022-12-02T14:23:53.605496Z",
     "iopub.status.busy": "2022-12-02T14:23:53.604687Z",
     "iopub.status.idle": "2022-12-02T14:23:53.610688Z",
     "shell.execute_reply": "2022-12-02T14:23:53.609406Z"
    },
    "papermill": {
     "duration": 0.027445,
     "end_time": "2022-12-02T14:23:53.613041",
     "exception": false,
     "start_time": "2022-12-02T14:23:53.585596",
     "status": "completed"
    },
    "tags": []
   },
   "outputs": [],
   "source": [
    "result_df=Stock_df.copy()"
   ]
  },
  {
   "cell_type": "code",
   "execution_count": 85,
   "id": "bfa70868",
   "metadata": {
    "execution": {
     "iopub.execute_input": "2022-12-02T14:23:53.650222Z",
     "iopub.status.busy": "2022-12-02T14:23:53.649748Z",
     "iopub.status.idle": "2022-12-02T14:23:53.983303Z",
     "shell.execute_reply": "2022-12-02T14:23:53.981954Z"
    },
    "papermill": {
     "duration": 0.355454,
     "end_time": "2022-12-02T14:23:53.985918",
     "exception": false,
     "start_time": "2022-12-02T14:23:53.630464",
     "status": "completed"
    },
    "tags": []
   },
   "outputs": [
    {
     "data": {
      "image/png": "[encoded data removed]",
      "text/plain": [
       "<Figure size 864x432 with 1 Axes>"
      ]
     },
     "metadata": {},
     "output_type": "display_data"
    }
   ],
   "source": [
    "plt.figure(figsize=(12,6))\n",
    "plt.plot(Stock_df[\"Close\"],color=\"blue\");\n",
    "plt.ylabel(\"Stock Price\")\n",
    "plt.title(\"Tesla Stock Market Price\")\n",
    "plt.xlabel(\"Time\")\n",
    "plt.show()"
   ]
  },
  {
   "cell_type": "code",
   "execution_count": 86,
   "id": "85492e92",
   "metadata": {
    "execution": {
     "iopub.execute_input": "2022-12-02T14:23:54.064862Z",
     "iopub.status.busy": "2022-12-02T14:23:54.064426Z",
     "iopub.status.idle": "2022-12-02T14:23:54.070403Z",
     "shell.execute_reply": "2022-12-02T14:23:54.069096Z"
    },
    "papermill": {
     "duration": 0.03133,
     "end_time": "2022-12-02T14:23:54.073202",
     "exception": false,
     "start_time": "2022-12-02T14:23:54.041872",
     "status": "completed"
    },
    "tags": []
   },
   "outputs": [],
   "source": [
    "Stock_df=Stock_df.values"
   ]
  },
  {
   "cell_type": "code",
   "execution_count": 87,
   "id": "d00ddc19",
   "metadata": {
    "execution": {
     "iopub.execute_input": "2022-12-02T14:23:54.112138Z",
     "iopub.status.busy": "2022-12-02T14:23:54.111535Z",
     "iopub.status.idle": "2022-12-02T14:23:54.119802Z",
     "shell.execute_reply": "2022-12-02T14:23:54.118538Z"
    },
    "papermill": {
     "duration": 0.031281,
     "end_time": "2022-12-02T14:23:54.122968",
     "exception": false,
     "start_time": "2022-12-02T14:23:54.091687",
     "status": "completed"
    },
    "tags": []
   },
   "outputs": [
    {
     "data": {
      "text/plain": [
       "array([[17.  ],\n",
       "       [23.89],\n",
       "       [23.83],\n",
       "       [21.96],\n",
       "       [19.2 ]])"
      ]
     },
     "execution_count": 87,
     "metadata": {},
     "output_type": "execute_result"
    }
   ],
   "source": [
    "Stock_df[0:5]"
   ]
  },
  {
   "cell_type": "code",
   "execution_count": null,
   "id": "066465fc",
   "metadata": {},
   "outputs": [],
   "source": []
  },
  {
   "cell_type": "code",
   "execution_count": 88,
   "id": "94c22ce4",
   "metadata": {
    "execution": {
     "iopub.execute_input": "2022-12-02T14:23:54.201411Z",
     "iopub.status.busy": "2022-12-02T14:23:54.200992Z",
     "iopub.status.idle": "2022-12-02T14:23:54.206590Z",
     "shell.execute_reply": "2022-12-02T14:23:54.205570Z"
    },
    "papermill": {
     "duration": 0.028021,
     "end_time": "2022-12-02T14:23:54.209230",
     "exception": false,
     "start_time": "2022-12-02T14:23:54.181209",
     "status": "completed"
    },
    "tags": []
   },
   "outputs": [],
   "source": [
    "Stock_df=Stock_df.astype(\"float32\")"
   ]
  },
  {
   "cell_type": "markdown",
   "id": "797a5198",
   "metadata": {},
   "source": [
    "### ->Training and testing the model"
   ]
  },
  {
   "cell_type": "code",
   "execution_count": 89,
   "id": "2bfd777e",
   "metadata": {},
   "outputs": [],
   "source": [
    "pos=int(round(len(Stock_df)*(1-0.20)))\n",
    "train=Stock_df[:pos]\n",
    "test=Stock_df[pos:]"
   ]
  },
  {
   "cell_type": "code",
   "execution_count": 90,
   "id": "15e60691",
   "metadata": {
    "execution": {
     "iopub.execute_input": "2022-12-02T14:23:54.284595Z",
     "iopub.status.busy": "2022-12-02T14:23:54.283811Z",
     "iopub.status.idle": "2022-12-02T14:23:54.289930Z",
     "shell.execute_reply": "2022-12-02T14:23:54.289012Z"
    },
    "papermill": {
     "duration": 0.02873,
     "end_time": "2022-12-02T14:23:54.292477",
     "exception": false,
     "start_time": "2022-12-02T14:23:54.263747",
     "status": "completed"
    },
    "tags": []
   },
   "outputs": [
    {
     "data": {
      "text/plain": [
       "\"'def split_data(dataframe,test_size):\\n    pos=int(round(len(dataframe)*(1-test_size)))\\n    train=dataframe[:pos]\\n    test=dataframe[pos:]\\n    return train,test,pos \""
      ]
     },
     "execution_count": 90,
     "metadata": {},
     "output_type": "execute_result"
    }
   ],
   "source": [
    "''''def split_data(dataframe,test_size):\n",
    "    pos=int(round(len(dataframe)*(1-test_size)))\n",
    "    train=dataframe[:pos]\n",
    "    test=dataframe[pos:]\n",
    "    return train,test,pos '''"
   ]
  },
  {
   "cell_type": "code",
   "execution_count": 91,
   "id": "3d814e2d",
   "metadata": {
    "execution": {
     "iopub.execute_input": "2022-12-02T14:23:54.332743Z",
     "iopub.status.busy": "2022-12-02T14:23:54.332085Z",
     "iopub.status.idle": "2022-12-02T14:23:54.338150Z",
     "shell.execute_reply": "2022-12-02T14:23:54.336721Z"
    },
    "papermill": {
     "duration": 0.030282,
     "end_time": "2022-12-02T14:23:54.341629",
     "exception": false,
     "start_time": "2022-12-02T14:23:54.311347",
     "status": "completed"
    },
    "tags": []
   },
   "outputs": [],
   "source": [
    "### train,test,pos=split_data(Stock_df,0.20)"
   ]
  },
  {
   "cell_type": "code",
   "execution_count": 92,
   "id": "2360bc92",
   "metadata": {
    "execution": {
     "iopub.execute_input": "2022-12-02T14:23:54.382337Z",
     "iopub.status.busy": "2022-12-02T14:23:54.381910Z",
     "iopub.status.idle": "2022-12-02T14:23:54.388158Z",
     "shell.execute_reply": "2022-12-02T14:23:54.386960Z"
    },
    "papermill": {
     "duration": 0.029177,
     "end_time": "2022-12-02T14:23:54.390619",
     "exception": false,
     "start_time": "2022-12-02T14:23:54.361442",
     "status": "completed"
    },
    "tags": []
   },
   "outputs": [
    {
     "name": "stdout",
     "output_type": "stream",
     "text": [
      "(1486, 1) (372, 1)\n"
     ]
    }
   ],
   "source": [
    "print(train.shape,test.shape)"
   ]
  },
  {
   "cell_type": "code",
   "execution_count": 93,
   "id": "7abc0f0a",
   "metadata": {
    "execution": {
     "iopub.execute_input": "2022-12-02T14:23:54.430378Z",
     "iopub.status.busy": "2022-12-02T14:23:54.429931Z",
     "iopub.status.idle": "2022-12-02T14:23:54.435306Z",
     "shell.execute_reply": "2022-12-02T14:23:54.433856Z"
    },
    "papermill": {
     "duration": 0.02814,
     "end_time": "2022-12-02T14:23:54.437841",
     "exception": false,
     "start_time": "2022-12-02T14:23:54.409701",
     "status": "completed"
    },
    "tags": []
   },
   "outputs": [],
   "source": [
    "scaler_train=MinMaxScaler(feature_range=(0,1))"
   ]
  },
  {
   "cell_type": "code",
   "execution_count": 94,
   "id": "5c6c14e7",
   "metadata": {
    "execution": {
     "iopub.execute_input": "2022-12-02T14:23:54.479257Z",
     "iopub.status.busy": "2022-12-02T14:23:54.478831Z",
     "iopub.status.idle": "2022-12-02T14:23:54.485303Z",
     "shell.execute_reply": "2022-12-02T14:23:54.484207Z"
    },
    "papermill": {
     "duration": 0.030349,
     "end_time": "2022-12-02T14:23:54.487859",
     "exception": false,
     "start_time": "2022-12-02T14:23:54.457510",
     "status": "completed"
    },
    "tags": []
   },
   "outputs": [],
   "source": [
    "train=scaler_train.fit_transform(train)"
   ]
  },
  {
   "cell_type": "code",
   "execution_count": 95,
   "id": "e6667334",
   "metadata": {
    "execution": {
     "iopub.execute_input": "2022-12-02T14:23:54.529401Z",
     "iopub.status.busy": "2022-12-02T14:23:54.528919Z",
     "iopub.status.idle": "2022-12-02T14:23:54.534360Z",
     "shell.execute_reply": "2022-12-02T14:23:54.532972Z"
    },
    "papermill": {
     "duration": 0.029106,
     "end_time": "2022-12-02T14:23:54.536674",
     "exception": false,
     "start_time": "2022-12-02T14:23:54.507568",
     "status": "completed"
    },
    "tags": []
   },
   "outputs": [],
   "source": [
    "scaler_test=MinMaxScaler(feature_range=(0,1))"
   ]
  },
  {
   "cell_type": "code",
   "execution_count": 96,
   "id": "a8cb631f",
   "metadata": {
    "execution": {
     "iopub.execute_input": "2022-12-02T14:23:54.577869Z",
     "iopub.status.busy": "2022-12-02T14:23:54.577418Z",
     "iopub.status.idle": "2022-12-02T14:23:54.584241Z",
     "shell.execute_reply": "2022-12-02T14:23:54.582896Z"
    },
    "papermill": {
     "duration": 0.031109,
     "end_time": "2022-12-02T14:23:54.586983",
     "exception": false,
     "start_time": "2022-12-02T14:23:54.555874",
     "status": "completed"
    },
    "tags": []
   },
   "outputs": [],
   "source": [
    "test=scaler_test.fit_transform(test)"
   ]
  },
  {
   "cell_type": "code",
   "execution_count": 97,
   "id": "c1b0281a",
   "metadata": {
    "execution": {
     "iopub.execute_input": "2022-12-02T14:23:54.627452Z",
     "iopub.status.busy": "2022-12-02T14:23:54.627055Z",
     "iopub.status.idle": "2022-12-02T14:23:54.634605Z",
     "shell.execute_reply": "2022-12-02T14:23:54.633142Z"
    },
    "papermill": {
     "duration": 0.030858,
     "end_time": "2022-12-02T14:23:54.637200",
     "exception": false,
     "start_time": "2022-12-02T14:23:54.606342",
     "status": "completed"
    },
    "tags": []
   },
   "outputs": [
    {
     "data": {
      "text/plain": [
       "array([[0.00444049],\n",
       "       [0.02993634],\n",
       "       [0.02971432],\n",
       "       [0.02279454],\n",
       "       [0.01258141]], dtype=float32)"
      ]
     },
     "execution_count": 97,
     "metadata": {},
     "output_type": "execute_result"
    }
   ],
   "source": [
    "train[0:5]"
   ]
  },
  {
   "cell_type": "code",
   "execution_count": 98,
   "id": "a076a083",
   "metadata": {
    "execution": {
     "iopub.execute_input": "2022-12-02T14:23:54.676727Z",
     "iopub.status.busy": "2022-12-02T14:23:54.676319Z",
     "iopub.status.idle": "2022-12-02T14:23:54.684821Z",
     "shell.execute_reply": "2022-12-02T14:23:54.683568Z"
    },
    "papermill": {
     "duration": 0.031859,
     "end_time": "2022-12-02T14:23:54.687503",
     "exception": false,
     "start_time": "2022-12-02T14:23:54.655644",
     "status": "completed"
    },
    "tags": []
   },
   "outputs": [
    {
     "data": {
      "text/plain": [
       "array([[0.17912066],\n",
       "       [0.187325  ],\n",
       "       [0.21454191],\n",
       "       [0.20432329],\n",
       "       [0.2052567 ]], dtype=float32)"
      ]
     },
     "execution_count": 98,
     "metadata": {},
     "output_type": "execute_result"
    }
   ],
   "source": [
    "test[0:5]"
   ]
  },
  {
   "cell_type": "code",
   "execution_count": 99,
   "id": "afc80fd2",
   "metadata": {
    "execution": {
     "iopub.execute_input": "2022-12-02T14:23:54.730839Z",
     "iopub.status.busy": "2022-12-02T14:23:54.729480Z",
     "iopub.status.idle": "2022-12-02T14:23:54.735924Z",
     "shell.execute_reply": "2022-12-02T14:23:54.735082Z"
    },
    "papermill": {
     "duration": 0.030623,
     "end_time": "2022-12-02T14:23:54.738321",
     "exception": false,
     "start_time": "2022-12-02T14:23:54.707698",
     "status": "completed"
    },
    "tags": []
   },
   "outputs": [],
   "source": [
    "def create_features(data,lookback):\n",
    "    X,Y=[],[]\n",
    "    for i in range(lookback,len(data)):\n",
    "        X.append(data[i-lookback:i,0])\n",
    "        Y.append(data[i,0])\n",
    "    return np.array(X),np.array(Y)"
   ]
  },
  {
   "cell_type": "code",
   "execution_count": 100,
   "id": "0c8c130d",
   "metadata": {
    "execution": {
     "iopub.execute_input": "2022-12-02T14:23:54.780363Z",
     "iopub.status.busy": "2022-12-02T14:23:54.779243Z",
     "iopub.status.idle": "2022-12-02T14:23:54.784690Z",
     "shell.execute_reply": "2022-12-02T14:23:54.783745Z"
    },
    "papermill": {
     "duration": 0.028524,
     "end_time": "2022-12-02T14:23:54.786981",
     "exception": false,
     "start_time": "2022-12-02T14:23:54.758457",
     "status": "completed"
    },
    "tags": []
   },
   "outputs": [],
   "source": [
    "lookback=30"
   ]
  },
  {
   "cell_type": "code",
   "execution_count": 101,
   "id": "105da285",
   "metadata": {
    "execution": {
     "iopub.execute_input": "2022-12-02T14:23:54.863992Z",
     "iopub.status.busy": "2022-12-02T14:23:54.862815Z",
     "iopub.status.idle": "2022-12-02T14:23:54.870659Z",
     "shell.execute_reply": "2022-12-02T14:23:54.869396Z"
    },
    "papermill": {
     "duration": 0.030043,
     "end_time": "2022-12-02T14:23:54.873154",
     "exception": false,
     "start_time": "2022-12-02T14:23:54.843111",
     "status": "completed"
    },
    "tags": []
   },
   "outputs": [],
   "source": [
    "X_train,y_train=create_features(train,lookback)"
   ]
  },
  {
   "cell_type": "code",
   "execution_count": 102,
   "id": "c989344b",
   "metadata": {
    "execution": {
     "iopub.execute_input": "2022-12-02T14:23:54.951486Z",
     "iopub.status.busy": "2022-12-02T14:23:54.951017Z",
     "iopub.status.idle": "2022-12-02T14:23:54.957337Z",
     "shell.execute_reply": "2022-12-02T14:23:54.956252Z"
    },
    "papermill": {
     "duration": 0.029091,
     "end_time": "2022-12-02T14:23:54.959611",
     "exception": false,
     "start_time": "2022-12-02T14:23:54.930520",
     "status": "completed"
    },
    "tags": []
   },
   "outputs": [],
   "source": [
    "X_test,y_test=create_features(test,lookback)"
   ]
  },
  {
   "cell_type": "code",
   "execution_count": 103,
   "id": "0d9e7f3c",
   "metadata": {
    "execution": {
     "iopub.execute_input": "2022-12-02T14:23:54.998611Z",
     "iopub.status.busy": "2022-12-02T14:23:54.998202Z",
     "iopub.status.idle": "2022-12-02T14:23:55.004243Z",
     "shell.execute_reply": "2022-12-02T14:23:55.003020Z"
    },
    "papermill": {
     "duration": 0.028757,
     "end_time": "2022-12-02T14:23:55.007110",
     "exception": false,
     "start_time": "2022-12-02T14:23:54.978353",
     "status": "completed"
    },
    "tags": []
   },
   "outputs": [
    {
     "name": "stdout",
     "output_type": "stream",
     "text": [
      "(1456, 30) (1456,) (342, 30) (342,)\n"
     ]
    }
   ],
   "source": [
    "print(X_train.shape,y_train.shape,X_test.shape,y_test.shape)"
   ]
  },
  {
   "cell_type": "code",
   "execution_count": 104,
   "id": "facb7f2a",
   "metadata": {
    "execution": {
     "iopub.execute_input": "2022-12-02T14:23:55.046227Z",
     "iopub.status.busy": "2022-12-02T14:23:55.045767Z",
     "iopub.status.idle": "2022-12-02T14:23:55.055588Z",
     "shell.execute_reply": "2022-12-02T14:23:55.054423Z"
    },
    "papermill": {
     "duration": 0.0323,
     "end_time": "2022-12-02T14:23:55.057833",
     "exception": false,
     "start_time": "2022-12-02T14:23:55.025533",
     "status": "completed"
    },
    "tags": []
   },
   "outputs": [
    {
     "data": {
      "text/plain": [
       "array([[0.00444049, 0.02993634, 0.02971432, 0.02279454, 0.01258141,\n",
       "        0.00114713, 0.        , 0.00614268, 0.00592066, 0.00462551,\n",
       "        0.00865897, 0.01494967, 0.01513469, 0.01791   , 0.02260953,\n",
       "        0.01665186, 0.01635583, 0.01924215, 0.02031527, 0.01905713,\n",
       "        0.01757696, 0.01820603, 0.01683688, 0.01531971, 0.01894612,\n",
       "        0.02275755, 0.02020426, 0.01720693, 0.01402457, 0.01406157],\n",
       "       [0.02993634, 0.02971432, 0.02279454, 0.01258141, 0.00114713,\n",
       "        0.        , 0.00614268, 0.00592066, 0.00462551, 0.00865897,\n",
       "        0.01494967, 0.01513469, 0.01791   , 0.02260953, 0.01665186,\n",
       "        0.01635583, 0.01924215, 0.02031527, 0.01905713, 0.01757696,\n",
       "        0.01820603, 0.01683688, 0.01531971, 0.01894612, 0.02275755,\n",
       "        0.02020426, 0.01720693, 0.01402457, 0.01406157, 0.01195234],\n",
       "       [0.02971432, 0.02279454, 0.01258141, 0.00114713, 0.        ,\n",
       "        0.00614268, 0.00592066, 0.00462551, 0.00865897, 0.01494967,\n",
       "        0.01513469, 0.01791   , 0.02260953, 0.01665186, 0.01635583,\n",
       "        0.01924215, 0.02031527, 0.01905713, 0.01757696, 0.01820603,\n",
       "        0.01683688, 0.01531971, 0.01894612, 0.02275755, 0.02020426,\n",
       "        0.01720693, 0.01402457, 0.01406157, 0.01195234, 0.00777087],\n",
       "       [0.02279454, 0.01258141, 0.00114713, 0.        , 0.00614268,\n",
       "        0.00592066, 0.00462551, 0.00865897, 0.01494967, 0.01513469,\n",
       "        0.01791   , 0.02260953, 0.01665186, 0.01635583, 0.01924215,\n",
       "        0.02031527, 0.01905713, 0.01757696, 0.01820603, 0.01683688,\n",
       "        0.01531971, 0.01894612, 0.02275755, 0.02020426, 0.01720693,\n",
       "        0.01402457, 0.01406157, 0.01195234, 0.00777087, 0.00666074],\n",
       "       [0.01258141, 0.00114713, 0.        , 0.00614268, 0.00592066,\n",
       "        0.00462551, 0.00865897, 0.01494967, 0.01513469, 0.01791   ,\n",
       "        0.02260953, 0.01665186, 0.01635583, 0.01924215, 0.02031527,\n",
       "        0.01905713, 0.01757696, 0.01820603, 0.01683688, 0.01531971,\n",
       "        0.01894612, 0.02275755, 0.02020426, 0.01720693, 0.01402457,\n",
       "        0.01406157, 0.01195234, 0.00777087, 0.00666074, 0.00932504]],\n",
       "      dtype=float32)"
      ]
     },
     "execution_count": 104,
     "metadata": {},
     "output_type": "execute_result"
    }
   ],
   "source": [
    "X_train[0:5]"
   ]
  },
  {
   "cell_type": "code",
   "execution_count": 105,
   "id": "ad7771e8",
   "metadata": {
    "execution": {
     "iopub.execute_input": "2022-12-02T14:23:55.135491Z",
     "iopub.status.busy": "2022-12-02T14:23:55.135067Z",
     "iopub.status.idle": "2022-12-02T14:23:55.142919Z",
     "shell.execute_reply": "2022-12-02T14:23:55.141793Z"
    },
    "papermill": {
     "duration": 0.030572,
     "end_time": "2022-12-02T14:23:55.145182",
     "exception": false,
     "start_time": "2022-12-02T14:23:55.114610",
     "status": "completed"
    },
    "scrolled": true,
    "tags": []
   },
   "outputs": [
    {
     "data": {
      "text/plain": [
       "array([0.16944242, 0.1735692 , 0.21287155, 0.21223283, 0.20181775],\n",
       "      dtype=float32)"
      ]
     },
     "execution_count": 105,
     "metadata": {},
     "output_type": "execute_result"
    }
   ],
   "source": [
    "y_test[0:5]"
   ]
  },
  {
   "cell_type": "code",
   "execution_count": 106,
   "id": "a9d6b0de",
   "metadata": {
    "execution": {
     "iopub.execute_input": "2022-12-02T14:23:55.221770Z",
     "iopub.status.busy": "2022-12-02T14:23:55.221360Z",
     "iopub.status.idle": "2022-12-02T14:23:55.226576Z",
     "shell.execute_reply": "2022-12-02T14:23:55.225667Z"
    },
    "papermill": {
     "duration": 0.028626,
     "end_time": "2022-12-02T14:23:55.229289",
     "exception": false,
     "start_time": "2022-12-02T14:23:55.200663",
     "status": "completed"
    },
    "tags": []
   },
   "outputs": [],
   "source": [
    "X_train=np.reshape(X_train,(X_train.shape[0],1,X_train.shape[1]))"
   ]
  },
  {
   "cell_type": "code",
   "execution_count": 107,
   "id": "b77d52e2",
   "metadata": {
    "execution": {
     "iopub.execute_input": "2022-12-02T14:23:55.268743Z",
     "iopub.status.busy": "2022-12-02T14:23:55.267788Z",
     "iopub.status.idle": "2022-12-02T14:23:55.274119Z",
     "shell.execute_reply": "2022-12-02T14:23:55.272912Z"
    },
    "papermill": {
     "duration": 0.029064,
     "end_time": "2022-12-02T14:23:55.276960",
     "exception": false,
     "start_time": "2022-12-02T14:23:55.247896",
     "status": "completed"
    },
    "tags": []
   },
   "outputs": [],
   "source": [
    "X_test=np.reshape(X_test,(X_test.shape[0],1,X_test.shape[1]))"
   ]
  },
  {
   "cell_type": "code",
   "execution_count": 108,
   "id": "e33fae8c",
   "metadata": {
    "execution": {
     "iopub.execute_input": "2022-12-02T14:23:55.317071Z",
     "iopub.status.busy": "2022-12-02T14:23:55.315867Z",
     "iopub.status.idle": "2022-12-02T14:23:55.321418Z",
     "shell.execute_reply": "2022-12-02T14:23:55.320202Z"
    },
    "papermill": {
     "duration": 0.02843,
     "end_time": "2022-12-02T14:23:55.323802",
     "exception": false,
     "start_time": "2022-12-02T14:23:55.295372",
     "status": "completed"
    },
    "tags": []
   },
   "outputs": [],
   "source": [
    "y_train=y_train.reshape(-1,1)"
   ]
  },
  {
   "cell_type": "code",
   "execution_count": 109,
   "id": "3cb744a1",
   "metadata": {
    "execution": {
     "iopub.execute_input": "2022-12-02T14:23:55.363312Z",
     "iopub.status.busy": "2022-12-02T14:23:55.362853Z",
     "iopub.status.idle": "2022-12-02T14:23:55.368164Z",
     "shell.execute_reply": "2022-12-02T14:23:55.366811Z"
    },
    "papermill": {
     "duration": 0.028012,
     "end_time": "2022-12-02T14:23:55.370530",
     "exception": false,
     "start_time": "2022-12-02T14:23:55.342518",
     "status": "completed"
    },
    "tags": []
   },
   "outputs": [],
   "source": [
    "y_test=y_test.reshape(-1,1)"
   ]
  },
  {
   "cell_type": "code",
   "execution_count": 110,
   "id": "a5b11f55",
   "metadata": {
    "execution": {
     "iopub.execute_input": "2022-12-02T14:23:55.409742Z",
     "iopub.status.busy": "2022-12-02T14:23:55.408838Z",
     "iopub.status.idle": "2022-12-02T14:23:55.415034Z",
     "shell.execute_reply": "2022-12-02T14:23:55.413948Z"
    },
    "papermill": {
     "duration": 0.028813,
     "end_time": "2022-12-02T14:23:55.417906",
     "exception": false,
     "start_time": "2022-12-02T14:23:55.389093",
     "status": "completed"
    },
    "tags": []
   },
   "outputs": [
    {
     "name": "stdout",
     "output_type": "stream",
     "text": [
      "(1456, 1, 30) (1456, 1) (342, 1, 30) (342, 1)\n"
     ]
    }
   ],
   "source": [
    "print(X_train.shape,y_train.shape,X_test.shape,y_test.shape)"
   ]
  },
  {
   "cell_type": "code",
   "execution_count": 111,
   "id": "bb68104a",
   "metadata": {},
   "outputs": [],
   "source": [
    "def ANN(m):\n",
    "    from keras.models import Sequential\n",
    "    from keras.layers import Dense\n",
    "   \n",
    "    model.add(Dense(11,activation='relu',input_dim=30))\n",
    "    model.add(Dense(1,activation='sigmoid'))\n",
    "\n",
    "    model.compile(loss='binary_crossentropy',optimizer='adam',metrics=['accuracy'])\n",
    "    model.fit(X_train,y_train,epochs=3)"
   ]
  },
  {
   "cell_type": "code",
   "execution_count": 112,
   "id": "77e35449",
   "metadata": {
    "execution": {
     "iopub.execute_input": "2022-12-02T14:23:55.498310Z",
     "iopub.status.busy": "2022-12-02T14:23:55.497877Z",
     "iopub.status.idle": "2022-12-02T14:23:55.768294Z",
     "shell.execute_reply": "2022-12-02T14:23:55.767173Z"
    },
    "papermill": {
     "duration": 0.296921,
     "end_time": "2022-12-02T14:23:55.770654",
     "exception": false,
     "start_time": "2022-12-02T14:23:55.473733",
     "status": "completed"
    },
    "scrolled": true,
    "tags": []
   },
   "outputs": [],
   "source": [
    "from lib.utils import *\n",
    "ac=[]"
   ]
  },
  {
   "cell_type": "code",
   "execution_count": 113,
   "id": "39d32647",
   "metadata": {},
   "outputs": [],
   "source": [
    "model=ANN(X_train)"
   ]
  },
  {
   "cell_type": "code",
   "execution_count": 114,
   "id": "0ea44696",
   "metadata": {
    "execution": {
     "iopub.execute_input": "2022-12-02T14:23:55.859829Z",
     "iopub.status.busy": "2022-12-02T14:23:55.858578Z",
     "iopub.status.idle": "2022-12-02T14:23:55.873176Z",
     "shell.execute_reply": "2022-12-02T14:23:55.871762Z"
    },
    "papermill": {
     "duration": 0.037506,
     "end_time": "2022-12-02T14:23:55.876005",
     "exception": false,
     "start_time": "2022-12-02T14:23:55.838499",
     "status": "completed"
    },
    "tags": []
   },
   "outputs": [],
   "source": [
    "model.compile(loss=\"mean_squared_error\",optimizer=\"adam\")\n"
   ]
  },
  {
   "cell_type": "code",
   "execution_count": 115,
   "id": "f093f79d",
   "metadata": {
    "execution": {
     "iopub.execute_input": "2022-12-02T14:23:55.915791Z",
     "iopub.status.busy": "2022-12-02T14:23:55.914971Z",
     "iopub.status.idle": "2022-12-02T14:23:55.921968Z",
     "shell.execute_reply": "2022-12-02T14:23:55.920553Z"
    },
    "papermill": {
     "duration": 0.029343,
     "end_time": "2022-12-02T14:23:55.924200",
     "exception": false,
     "start_time": "2022-12-02T14:23:55.894857",
     "status": "completed"
    },
    "tags": []
   },
   "outputs": [],
   "source": [
    "callbacks=[EarlyStopping(monitor=\"val_loss\",patience=3,verbose=1,mode=\"min\"),\n",
    "          ModelCheckpoint(filepath=\"mymodel.h5\",monitor=\"val_loss\",mode=\"min\",\n",
    "                         save_best_only=True,save_weights_only=False,verbose=1)]"
   ]
  },
  {
   "cell_type": "code",
   "execution_count": 116,
   "id": "db61b728",
   "metadata": {
    "execution": {
     "iopub.execute_input": "2022-12-02T14:23:55.964487Z",
     "iopub.status.busy": "2022-12-02T14:23:55.963549Z",
     "iopub.status.idle": "2022-12-02T14:24:04.540017Z",
     "shell.execute_reply": "2022-12-02T14:24:04.538462Z"
    },
    "papermill": {
     "duration": 8.599817,
     "end_time": "2022-12-02T14:24:04.542967",
     "exception": false,
     "start_time": "2022-12-02T14:23:55.943150",
     "status": "completed"
    },
    "tags": []
   },
   "outputs": [
    {
     "name": "stdout",
     "output_type": "stream",
     "text": [
      "Epoch 1/200\n",
      "49/49 [==============================] - ETA: 0s - loss: 0.0084    \n",
      "Epoch 1: val_loss improved from inf to 0.00877, saving model to mymodel.h5\n",
      "49/49 [==============================] - 2s 12ms/step - loss: 0.0084 - val_loss: 0.0088\n",
      "Epoch 2/200\n",
      "45/49 [==========================>...] - ETA: 0s - loss: 0.0056\n",
      "Epoch 2: val_loss improved from 0.00877 to 0.00737, saving model to mymodel.h5\n",
      "49/49 [==============================] - 0s 5ms/step - loss: 0.0060 - val_loss: 0.0074\n",
      "Epoch 3/200\n",
      "33/49 [===================>..........] - ETA: 0s - loss: 0.0030    \n",
      "Epoch 3: val_loss improved from 0.00737 to 0.00648, saving model to mymodel.h5\n",
      "49/49 [==============================] - 0s 5ms/step - loss: 0.0050 - val_loss: 0.0065\n",
      "Epoch 4/200\n",
      "34/49 [===================>..........] - ETA: 0s - loss: 0.0023    \n",
      "Epoch 4: val_loss improved from 0.00648 to 0.00600, saving model to mymodel.h5\n",
      "49/49 [==============================] - 0s 5ms/step - loss: 0.0042 - val_loss: 0.0060\n",
      "Epoch 5/200\n",
      "33/49 [===================>..........] - ETA: 0s - loss: 0.0023    \n",
      "Epoch 5: val_loss improved from 0.00600 to 0.00540, saving model to mymodel.h5\n",
      "49/49 [==============================] - 0s 5ms/step - loss: 0.0042 - val_loss: 0.0054\n",
      "Epoch 6/200\n",
      "34/49 [===================>..........] - ETA: 0s - loss: 0.0023    \n",
      "Epoch 6: val_loss improved from 0.00540 to 0.00497, saving model to mymodel.h5\n",
      "49/49 [==============================] - 0s 5ms/step - loss: 0.0037 - val_loss: 0.0050\n",
      "Epoch 7/200\n",
      "47/49 [===========================>..] - ETA: 0s - loss: 0.0033   \n",
      "Epoch 7: val_loss improved from 0.00497 to 0.00477, saving model to mymodel.h5\n",
      "49/49 [==============================] - 0s 5ms/step - loss: 0.0034 - val_loss: 0.0048\n",
      "Epoch 8/200\n",
      "47/49 [===========================>..] - ETA: 0s - loss: 0.0034   \n",
      "Epoch 8: val_loss improved from 0.00477 to 0.00440, saving model to mymodel.h5\n",
      "49/49 [==============================] - 0s 5ms/step - loss: 0.0036 - val_loss: 0.0044\n",
      "Epoch 9/200\n",
      "35/49 [====================>.........] - ETA: 0s - loss: 0.0021    \n",
      "Epoch 9: val_loss improved from 0.00440 to 0.00413, saving model to mymodel.h5\n",
      "49/49 [==============================] - 0s 5ms/step - loss: 0.0034 - val_loss: 0.0041\n",
      "Epoch 10/200\n",
      "34/49 [===================>..........] - ETA: 0s - loss: 0.0019    \n",
      "Epoch 10: val_loss did not improve from 0.00413\n",
      "49/49 [==============================] - 0s 4ms/step - loss: 0.0037 - val_loss: 0.0042\n",
      "Epoch 11/200\n",
      "49/49 [==============================] - ETA: 0s - loss: 0.0034   \n",
      "Epoch 11: val_loss improved from 0.00413 to 0.00399, saving model to mymodel.h5\n",
      "49/49 [==============================] - 0s 5ms/step - loss: 0.0034 - val_loss: 0.0040\n",
      "Epoch 12/200\n",
      "34/49 [===================>..........] - ETA: 0s - loss: 0.0017    \n",
      "Epoch 12: val_loss improved from 0.00399 to 0.00388, saving model to mymodel.h5\n",
      "49/49 [==============================] - 0s 5ms/step - loss: 0.0032 - val_loss: 0.0039\n",
      "Epoch 13/200\n",
      "37/49 [=====================>........] - ETA: 0s - loss: 0.0024    \n",
      "Epoch 13: val_loss did not improve from 0.00388\n",
      "49/49 [==============================] - 0s 4ms/step - loss: 0.0035 - val_loss: 0.0040\n",
      "Epoch 14/200\n",
      "37/49 [=====================>........] - ETA: 0s - loss: 0.0026    \n",
      "Epoch 14: val_loss did not improve from 0.00388\n",
      "49/49 [==============================] - 0s 4ms/step - loss: 0.0036 - val_loss: 0.0043\n",
      "Epoch 15/200\n",
      "36/49 [=====================>........] - ETA: 0s - loss: 0.0021    \n",
      "Epoch 15: val_loss did not improve from 0.00388\n",
      "49/49 [==============================] - 0s 4ms/step - loss: 0.0035 - val_loss: 0.0039\n",
      "Epoch 15: early stopping\n"
     ]
    }
   ],
   "source": [
    "history = model.fit(x=X_train,\n",
    "                    y=y_train,\n",
    "                    epochs=200,\n",
    "                    batch_size=30,\n",
    "                    validation_data=(X_test,y_test),\n",
    "                    callbacks=callbacks,\n",
    "                    shuffle=False)\n",
    "ac.append(accuracy_score(model,y_test,sample_weight=0.2)*100)"
   ]
  },
  {
   "cell_type": "code",
   "execution_count": 117,
   "id": "8615e5ed",
   "metadata": {
    "execution": {
     "iopub.execute_input": "2022-12-02T14:24:04.997631Z",
     "iopub.status.busy": "2022-12-02T14:24:04.996703Z",
     "iopub.status.idle": "2022-12-02T14:24:05.091914Z",
     "shell.execute_reply": "2022-12-02T14:24:05.090331Z"
    },
    "papermill": {
     "duration": 0.126849,
     "end_time": "2022-12-02T14:24:05.095195",
     "exception": false,
     "start_time": "2022-12-02T14:24:04.968346",
     "status": "completed"
    },
    "tags": []
   },
   "outputs": [
    {
     "name": "stdout",
     "output_type": "stream",
     "text": [
      "12/12 [==============================] - 0s 2ms/step - loss: 0.0039\n"
     ]
    }
   ],
   "source": [
    "loss=model.evaluate(X_test,y_test,batch_size=30)"
   ]
  },
  {
   "cell_type": "code",
   "execution_count": 118,
   "id": "35e98732",
   "metadata": {
    "execution": {
     "iopub.execute_input": "2022-12-02T14:24:05.221236Z",
     "iopub.status.busy": "2022-12-02T14:24:05.220520Z",
     "iopub.status.idle": "2022-12-02T14:24:05.648161Z",
     "shell.execute_reply": "2022-12-02T14:24:05.646874Z"
    },
    "papermill": {
     "duration": 0.461503,
     "end_time": "2022-12-02T14:24:05.651128",
     "exception": false,
     "start_time": "2022-12-02T14:24:05.189625",
     "status": "completed"
    },
    "tags": []
   },
   "outputs": [
    {
     "name": "stdout",
     "output_type": "stream",
     "text": [
      "46/46 [==============================] - 0s 2ms/step\n",
      "11/11 [==============================] - 0s 2ms/step\n"
     ]
    }
   ],
   "source": [
    "train_predict=model.predict(X_train)\n",
    "test_predict=model.predict(X_test)"
   ]
  },
  {
   "cell_type": "code",
   "execution_count": 119,
   "id": "9ba4ab52",
   "metadata": {
    "execution": {
     "iopub.execute_input": "2022-12-02T14:24:05.707460Z",
     "iopub.status.busy": "2022-12-02T14:24:05.707035Z",
     "iopub.status.idle": "2022-12-02T14:24:05.712059Z",
     "shell.execute_reply": "2022-12-02T14:24:05.711009Z"
    },
    "papermill": {
     "duration": 0.035959,
     "end_time": "2022-12-02T14:24:05.714306",
     "exception": false,
     "start_time": "2022-12-02T14:24:05.678347",
     "status": "completed"
    },
    "tags": []
   },
   "outputs": [],
   "source": [
    "train_predict=scaler_train.inverse_transform(train_predict)\n",
    "test_predict=scaler_test.inverse_transform(test_predict)"
   ]
  },
  {
   "cell_type": "code",
   "execution_count": 120,
   "id": "08c01627",
   "metadata": {
    "execution": {
     "iopub.execute_input": "2022-12-02T14:24:05.771046Z",
     "iopub.status.busy": "2022-12-02T14:24:05.770401Z",
     "iopub.status.idle": "2022-12-02T14:24:05.775018Z",
     "shell.execute_reply": "2022-12-02T14:24:05.774214Z"
    },
    "papermill": {
     "duration": 0.035507,
     "end_time": "2022-12-02T14:24:05.777263",
     "exception": false,
     "start_time": "2022-12-02T14:24:05.741756",
     "status": "completed"
    },
    "tags": []
   },
   "outputs": [],
   "source": [
    "y_train=scaler_train.inverse_transform(y_train)\n",
    "y_test=scaler_test.inverse_transform(y_test)"
   ]
  },
  {
   "cell_type": "code",
   "execution_count": 121,
   "id": "2146ffc6",
   "metadata": {
    "execution": {
     "iopub.execute_input": "2022-12-02T14:24:05.888710Z",
     "iopub.status.busy": "2022-12-02T14:24:05.888095Z",
     "iopub.status.idle": "2022-12-02T14:24:05.892911Z",
     "shell.execute_reply": "2022-12-02T14:24:05.892025Z"
    },
    "papermill": {
     "duration": 0.036297,
     "end_time": "2022-12-02T14:24:05.895419",
     "exception": false,
     "start_time": "2022-12-02T14:24:05.859122",
     "status": "completed"
    },
    "tags": []
   },
   "outputs": [],
   "source": [
    "train_rmse=np.sqrt(mean_squared_error(y_train,train_predict))"
   ]
  },
  {
   "cell_type": "code",
   "execution_count": 122,
   "id": "159b1a09",
   "metadata": {
    "execution": {
     "iopub.execute_input": "2022-12-02T14:24:05.952208Z",
     "iopub.status.busy": "2022-12-02T14:24:05.951752Z",
     "iopub.status.idle": "2022-12-02T14:24:05.957716Z",
     "shell.execute_reply": "2022-12-02T14:24:05.956567Z"
    },
    "papermill": {
     "duration": 0.03724,
     "end_time": "2022-12-02T14:24:05.960305",
     "exception": false,
     "start_time": "2022-12-02T14:24:05.923065",
     "status": "completed"
    },
    "tags": []
   },
   "outputs": [],
   "source": [
    "test_rmse=np.sqrt(mean_squared_error(y_test,test_predict,))"
   ]
  },
  {
   "cell_type": "code",
   "execution_count": 123,
   "id": "59ba211c",
   "metadata": {
    "execution": {
     "iopub.execute_input": "2022-12-02T14:24:06.140144Z",
     "iopub.status.busy": "2022-12-02T14:24:06.139648Z",
     "iopub.status.idle": "2022-12-02T14:24:06.145868Z",
     "shell.execute_reply": "2022-12-02T14:24:06.144635Z"
    },
    "papermill": {
     "duration": 0.038062,
     "end_time": "2022-12-02T14:24:06.148273",
     "exception": false,
     "start_time": "2022-12-02T14:24:06.110211",
     "status": "completed"
    },
    "tags": []
   },
   "outputs": [],
   "source": [
    "train_prediction_data=result_df[lookback:pos]"
   ]
  },
  {
   "cell_type": "code",
   "execution_count": 124,
   "id": "9efe10ac",
   "metadata": {
    "execution": {
     "iopub.execute_input": "2022-12-02T14:24:06.204829Z",
     "iopub.status.busy": "2022-12-02T14:24:06.204357Z",
     "iopub.status.idle": "2022-12-02T14:24:06.217592Z",
     "shell.execute_reply": "2022-12-02T14:24:06.216118Z"
    },
    "papermill": {
     "duration": 0.044341,
     "end_time": "2022-12-02T14:24:06.220152",
     "exception": false,
     "start_time": "2022-12-02T14:24:06.175811",
     "status": "completed"
    },
    "tags": []
   },
   "outputs": [],
   "source": [
    "train_prediction_data[\"Predicted\"]=train_predict"
   ]
  },
  {
   "cell_type": "code",
   "execution_count": 125,
   "id": "456646f5",
   "metadata": {
    "execution": {
     "iopub.execute_input": "2022-12-02T14:24:06.347992Z",
     "iopub.status.busy": "2022-12-02T14:24:06.347518Z",
     "iopub.status.idle": "2022-12-02T14:24:06.353173Z",
     "shell.execute_reply": "2022-12-02T14:24:06.351868Z"
    },
    "papermill": {
     "duration": 0.03742,
     "end_time": "2022-12-02T14:24:06.355892",
     "exception": false,
     "start_time": "2022-12-02T14:24:06.318472",
     "status": "completed"
    },
    "tags": []
   },
   "outputs": [],
   "source": [
    "test_prediction_data=result_df[pos+lookback:]"
   ]
  },
  {
   "cell_type": "code",
   "execution_count": 126,
   "id": "a456d790",
   "metadata": {
    "execution": {
     "iopub.execute_input": "2022-12-02T14:24:06.413707Z",
     "iopub.status.busy": "2022-12-02T14:24:06.413243Z",
     "iopub.status.idle": "2022-12-02T14:24:06.420996Z",
     "shell.execute_reply": "2022-12-02T14:24:06.419613Z"
    },
    "papermill": {
     "duration": 0.03945,
     "end_time": "2022-12-02T14:24:06.423538",
     "exception": false,
     "start_time": "2022-12-02T14:24:06.384088",
     "status": "completed"
    },
    "tags": []
   },
   "outputs": [],
   "source": [
    "test_prediction_data[\"Predicted\"]=test_predict"
   ]
  },
  {
   "cell_type": "code",
   "execution_count": 127,
   "id": "f5eb0b6b",
   "metadata": {
    "execution": {
     "iopub.execute_input": "2022-12-02T14:24:06.482555Z",
     "iopub.status.busy": "2022-12-02T14:24:06.482102Z",
     "iopub.status.idle": "2022-12-02T14:24:06.494114Z",
     "shell.execute_reply": "2022-12-02T14:24:06.492920Z"
    },
    "papermill": {
     "duration": 0.044216,
     "end_time": "2022-12-02T14:24:06.496428",
     "exception": false,
     "start_time": "2022-12-02T14:24:06.452212",
     "status": "completed"
    },
    "scrolled": true,
    "tags": []
   },
   "outputs": [
    {
     "name": "stdout",
     "output_type": "stream",
     "text": [
      "Daily predcition\n"
     ]
    },
    {
     "data": {
      "text/html": [
       "<div>\n",
       "<style scoped>\n",
       "    .dataframe tbody tr th:only-of-type {\n",
       "        vertical-align: middle;\n",
       "    }\n",
       "\n",
       "    .dataframe tbody tr th {\n",
       "        vertical-align: top;\n",
       "    }\n",
       "\n",
       "    .dataframe thead th {\n",
       "        text-align: right;\n",
       "    }\n",
       "</style>\n",
       "<table border=\"1\" class=\"dataframe\">\n",
       "  <thead>\n",
       "    <tr style=\"text-align: right;\">\n",
       "      <th></th>\n",
       "      <th>Close</th>\n",
       "      <th>Predicted</th>\n",
       "    </tr>\n",
       "    <tr>\n",
       "      <th>Date</th>\n",
       "      <th></th>\n",
       "      <th></th>\n",
       "    </tr>\n",
       "  </thead>\n",
       "  <tbody>\n",
       "    <tr>\n",
       "      <th>2016-07-07</th>\n",
       "      <td>215.94</td>\n",
       "      <td>219.136734</td>\n",
       "    </tr>\n",
       "    <tr>\n",
       "      <th>2016-07-08</th>\n",
       "      <td>216.78</td>\n",
       "      <td>220.418488</td>\n",
       "    </tr>\n",
       "    <tr>\n",
       "      <th>2016-07-11</th>\n",
       "      <td>224.78</td>\n",
       "      <td>220.413452</td>\n",
       "    </tr>\n",
       "    <tr>\n",
       "      <th>2016-07-12</th>\n",
       "      <td>224.65</td>\n",
       "      <td>221.754776</td>\n",
       "    </tr>\n",
       "    <tr>\n",
       "      <th>2016-07-13</th>\n",
       "      <td>222.53</td>\n",
       "      <td>222.722641</td>\n",
       "    </tr>\n",
       "  </tbody>\n",
       "</table>\n",
       "</div>"
      ],
      "text/plain": [
       "             Close   Predicted\n",
       "Date                          \n",
       "2016-07-07  215.94  219.136734\n",
       "2016-07-08  216.78  220.418488\n",
       "2016-07-11  224.78  220.413452\n",
       "2016-07-12  224.65  221.754776\n",
       "2016-07-13  222.53  222.722641"
      ]
     },
     "execution_count": 127,
     "metadata": {},
     "output_type": "execute_result"
    }
   ],
   "source": [
    "print(\"Daily predcition\")\n",
    "test_prediction_data.head()"
   ]
  },
  {
   "cell_type": "code",
   "execution_count": 128,
   "id": "c74ee3a2",
   "metadata": {
    "execution": {
     "iopub.execute_input": "2022-12-02T14:24:06.555689Z",
     "iopub.status.busy": "2022-12-02T14:24:06.554531Z",
     "iopub.status.idle": "2022-12-02T14:24:06.869434Z",
     "shell.execute_reply": "2022-12-02T14:24:06.867885Z"
    },
    "papermill": {
     "duration": 0.347838,
     "end_time": "2022-12-02T14:24:06.872503",
     "exception": false,
     "start_time": "2022-12-02T14:24:06.524665",
     "status": "completed"
    },
    "tags": []
   },
   "outputs": [
    {
     "data": {
      "image/png": "[encoded data removed]",
      "text/plain": [
       "<Figure size 1008x360 with 1 Axes>"
      ]
     },
     "metadata": {},
     "output_type": "display_data"
    }
   ],
   "source": [
    "plt.figure(figsize=(14,5))\n",
    "plt.plot(result_df,label=\"Real Values\")\n",
    "plt.plot(train_prediction_data[\"Predicted\"],color=\"green\",label=\"Train Predicted\")\n",
    "plt.plot(test_prediction_data[\"Predicted\"],color=\"red\",label=\"Test Predicted\")\n",
    "plt.title(\"Yearly prediction\")\n",
    "plt.xlabel(\"Time\")\n",
    "plt.ylabel(\"Stock Values\")\n",
    "plt.legend()\n",
    "plt.show()"
   ]
  },
  {
   "cell_type": "code",
   "execution_count": 129,
   "id": "58acf5be",
   "metadata": {},
   "outputs": [],
   "source": [
    "from sklearn import tree\n",
    "from sklearn import preprocessing\n",
    "lab = preprocessing.LabelEncoder()\n",
    "y_transformed = lab.fit_transform(y_train)\n",
    "\n",
    "model=tree.DecisionTreeClassifier()\n",
    "model.fit(X_train.reshape(1456,-1),y_transformed)\n",
    "y_pred=model.predict(X_test.reshape(342,-1))\n",
    "ac.append(accuracy_score(y_pred,y_test,sample_weight=0.8)*100)"
   ]
  },
  {
   "cell_type": "code",
   "execution_count": 130,
   "id": "b57a047e",
   "metadata": {
    "scrolled": true
   },
   "outputs": [
    {
     "name": "stdout",
     "output_type": "stream",
     "text": [
      "the accuracy of Decision Tree is 94.19999999999999 and ANN is 96.00999999999999\n"
     ]
    },
    {
     "data": {
      "text/plain": [
       "(50.0, 100.0)"
      ]
     },
     "execution_count": 130,
     "metadata": {},
     "output_type": "execute_result"
    },
    {
     "data": {
      "image/png": "[encoded data removed]",
      "text/plain": [
       "<Figure size 432x288 with 1 Axes>"
      ]
     },
     "metadata": {},
     "output_type": "display_data"
    }
   ],
   "source": [
    "import numpy as np\n",
    "import seaborn as sns\n",
    "import matplotlib as plt\n",
    "\n",
    "plt.style.use('dark_background')\n",
    "x=['Decision Tree','ANN']\n",
    "ac.reverse()\n",
    "ax=sns.barplot(x,ac)\n",
    "ax.set_title('Accuracy comparison')\n",
    "ax.set_ylabel('Accuracy')\n",
    "#ax.yaxis.set_major_locator(ticker.LinearLocator())\n",
    "print(\"the accuracy of {} is {} and {} is {}\".format(x[0],ac[0],x[1],ac[1]))\n",
    "ax.set_ylim(50,100)"
   ]
  },
  {
   "cell_type": "code",
   "execution_count": null,
   "id": "af35668e",
   "metadata": {},
   "outputs": [],
   "source": []
  },
  {
   "cell_type": "code",
   "execution_count": null,
   "id": "f750e8d7",
   "metadata": {},
   "outputs": [],
   "source": []
  }
 ],
 "metadata": {
  "kernelspec": {
   "display_name": "Python 3 (ipykernel)",
   "language": "python",
   "name": "python3"
  },
  "language_info": {
   "codemirror_mode": {
    "name": "ipython",
    "version": 3
   },
   "file_extension": ".py",
   "mimetype": "text/x-python",
   "name": "python",
   "nbconvert_exporter": "python",
   "pygments_lexer": "ipython3",
   "version": "3.10.4"
  },
  "papermill": {
   "default_parameters": {},
   "duration": 35.293552,
   "end_time": "2022-12-02T14:24:09.552006",
   "environment_variables": {},
   "exception": null,
   "input_path": "__notebook__.ipynb",
   "output_path": "__notebook__.ipynb",
   "parameters": {},
   "start_time": "2022-12-02T14:23:34.258454",
   "version": "2.3.4"
  }
 },
 "nbformat": 4,
 "nbformat_minor": 5
}
